{
 "cells": [
  {
   "cell_type": "markdown",
   "id": "1b56efec",
   "metadata": {},
   "source": [
    "# HR analysis"
   ]
  },
  {
   "cell_type": "markdown",
   "id": "59834ad5",
   "metadata": {},
   "source": [
    "## Data Pre processing"
   ]
  },
  {
   "cell_type": "markdown",
   "id": "b89ebb21",
   "metadata": {},
   "source": [
    "#### Import libraries"
   ]
  },
  {
   "cell_type": "code",
   "execution_count": 1,
   "id": "83094a59",
   "metadata": {
    "scrolled": true
   },
   "outputs": [],
   "source": [
    "import pandas as pd\n",
    "import numpy as np\n",
    "from pre_cleaner import pre_cleaner, to_clean\n",
    "from sklearn.preprocessing import OrdinalEncoder\n"
   ]
  },
  {
   "cell_type": "code",
   "execution_count": 2,
   "id": "a4644d06",
   "metadata": {
    "scrolled": true
   },
   "outputs": [
    {
     "data": {
      "text/html": [
       "<div>\n",
       "<style scoped>\n",
       "    .dataframe tbody tr th:only-of-type {\n",
       "        vertical-align: middle;\n",
       "    }\n",
       "\n",
       "    .dataframe tbody tr th {\n",
       "        vertical-align: top;\n",
       "    }\n",
       "\n",
       "    .dataframe thead th {\n",
       "        text-align: right;\n",
       "    }\n",
       "</style>\n",
       "<table border=\"1\" class=\"dataframe\">\n",
       "  <thead>\n",
       "    <tr style=\"text-align: right;\">\n",
       "      <th></th>\n",
       "      <th>city_development_index</th>\n",
       "      <th>enrolled_university</th>\n",
       "      <th>education_level</th>\n",
       "      <th>experience</th>\n",
       "      <th>company_size</th>\n",
       "      <th>last_new_job</th>\n",
       "      <th>training_hours</th>\n",
       "      <th>target</th>\n",
       "      <th>gender_Female</th>\n",
       "      <th>gender_Male</th>\n",
       "      <th>...</th>\n",
       "      <th>major_discipline_Humanities</th>\n",
       "      <th>major_discipline_No Major</th>\n",
       "      <th>major_discipline_Other</th>\n",
       "      <th>major_discipline_STEM</th>\n",
       "      <th>company_type_Early Stage Startup</th>\n",
       "      <th>company_type_Funded Startup</th>\n",
       "      <th>company_type_NGO</th>\n",
       "      <th>company_type_Other</th>\n",
       "      <th>company_type_Public Sector</th>\n",
       "      <th>company_type_Pvt Ltd</th>\n",
       "    </tr>\n",
       "  </thead>\n",
       "  <tbody>\n",
       "    <tr>\n",
       "      <th>0</th>\n",
       "      <td>0.920</td>\n",
       "      <td>no_enrollment</td>\n",
       "      <td>Graduate</td>\n",
       "      <td>&gt;20</td>\n",
       "      <td>NaN</td>\n",
       "      <td>1</td>\n",
       "      <td>36</td>\n",
       "      <td>1.0</td>\n",
       "      <td>0</td>\n",
       "      <td>1</td>\n",
       "      <td>...</td>\n",
       "      <td>0</td>\n",
       "      <td>0</td>\n",
       "      <td>0</td>\n",
       "      <td>1</td>\n",
       "      <td>0</td>\n",
       "      <td>0</td>\n",
       "      <td>0</td>\n",
       "      <td>0</td>\n",
       "      <td>0</td>\n",
       "      <td>1</td>\n",
       "    </tr>\n",
       "    <tr>\n",
       "      <th>1</th>\n",
       "      <td>0.776</td>\n",
       "      <td>no_enrollment</td>\n",
       "      <td>Graduate</td>\n",
       "      <td>15</td>\n",
       "      <td>50-99</td>\n",
       "      <td>&gt;4</td>\n",
       "      <td>47</td>\n",
       "      <td>0.0</td>\n",
       "      <td>0</td>\n",
       "      <td>1</td>\n",
       "      <td>...</td>\n",
       "      <td>0</td>\n",
       "      <td>0</td>\n",
       "      <td>0</td>\n",
       "      <td>1</td>\n",
       "      <td>0</td>\n",
       "      <td>0</td>\n",
       "      <td>0</td>\n",
       "      <td>0</td>\n",
       "      <td>0</td>\n",
       "      <td>1</td>\n",
       "    </tr>\n",
       "    <tr>\n",
       "      <th>2</th>\n",
       "      <td>0.624</td>\n",
       "      <td>Full time course</td>\n",
       "      <td>Graduate</td>\n",
       "      <td>5</td>\n",
       "      <td>NaN</td>\n",
       "      <td>never</td>\n",
       "      <td>83</td>\n",
       "      <td>0.0</td>\n",
       "      <td>0</td>\n",
       "      <td>1</td>\n",
       "      <td>...</td>\n",
       "      <td>0</td>\n",
       "      <td>0</td>\n",
       "      <td>0</td>\n",
       "      <td>1</td>\n",
       "      <td>0</td>\n",
       "      <td>0</td>\n",
       "      <td>0</td>\n",
       "      <td>0</td>\n",
       "      <td>0</td>\n",
       "      <td>1</td>\n",
       "    </tr>\n",
       "    <tr>\n",
       "      <th>3</th>\n",
       "      <td>0.789</td>\n",
       "      <td>no_enrollment</td>\n",
       "      <td>Graduate</td>\n",
       "      <td>&lt;1</td>\n",
       "      <td>NaN</td>\n",
       "      <td>never</td>\n",
       "      <td>52</td>\n",
       "      <td>1.0</td>\n",
       "      <td>0</td>\n",
       "      <td>1</td>\n",
       "      <td>...</td>\n",
       "      <td>0</td>\n",
       "      <td>0</td>\n",
       "      <td>0</td>\n",
       "      <td>0</td>\n",
       "      <td>0</td>\n",
       "      <td>0</td>\n",
       "      <td>0</td>\n",
       "      <td>0</td>\n",
       "      <td>0</td>\n",
       "      <td>1</td>\n",
       "    </tr>\n",
       "    <tr>\n",
       "      <th>4</th>\n",
       "      <td>0.767</td>\n",
       "      <td>no_enrollment</td>\n",
       "      <td>Masters</td>\n",
       "      <td>&gt;20</td>\n",
       "      <td>50-99</td>\n",
       "      <td>4</td>\n",
       "      <td>8</td>\n",
       "      <td>0.0</td>\n",
       "      <td>0</td>\n",
       "      <td>1</td>\n",
       "      <td>...</td>\n",
       "      <td>0</td>\n",
       "      <td>0</td>\n",
       "      <td>0</td>\n",
       "      <td>1</td>\n",
       "      <td>0</td>\n",
       "      <td>1</td>\n",
       "      <td>0</td>\n",
       "      <td>0</td>\n",
       "      <td>0</td>\n",
       "      <td>0</td>\n",
       "    </tr>\n",
       "  </tbody>\n",
       "</table>\n",
       "<p>5 rows × 24 columns</p>\n",
       "</div>"
      ],
      "text/plain": [
       "   city_development_index enrolled_university education_level experience  \\\n",
       "0                   0.920       no_enrollment        Graduate        >20   \n",
       "1                   0.776       no_enrollment        Graduate         15   \n",
       "2                   0.624    Full time course        Graduate          5   \n",
       "3                   0.789       no_enrollment        Graduate         <1   \n",
       "4                   0.767       no_enrollment         Masters        >20   \n",
       "\n",
       "  company_size last_new_job  training_hours  target  gender_Female  \\\n",
       "0          NaN            1              36     1.0              0   \n",
       "1        50-99           >4              47     0.0              0   \n",
       "2          NaN        never              83     0.0              0   \n",
       "3          NaN        never              52     1.0              0   \n",
       "4        50-99            4               8     0.0              0   \n",
       "\n",
       "   gender_Male  ...  major_discipline_Humanities  major_discipline_No Major  \\\n",
       "0            1  ...                            0                          0   \n",
       "1            1  ...                            0                          0   \n",
       "2            1  ...                            0                          0   \n",
       "3            1  ...                            0                          0   \n",
       "4            1  ...                            0                          0   \n",
       "\n",
       "   major_discipline_Other  major_discipline_STEM  \\\n",
       "0                       0                      1   \n",
       "1                       0                      1   \n",
       "2                       0                      1   \n",
       "3                       0                      0   \n",
       "4                       0                      1   \n",
       "\n",
       "   company_type_Early Stage Startup  company_type_Funded Startup  \\\n",
       "0                                 0                            0   \n",
       "1                                 0                            0   \n",
       "2                                 0                            0   \n",
       "3                                 0                            0   \n",
       "4                                 0                            1   \n",
       "\n",
       "   company_type_NGO  company_type_Other  company_type_Public Sector  \\\n",
       "0                 0                   0                           0   \n",
       "1                 0                   0                           0   \n",
       "2                 0                   0                           0   \n",
       "3                 0                   0                           0   \n",
       "4                 0                   0                           0   \n",
       "\n",
       "   company_type_Pvt Ltd  \n",
       "0                     1  \n",
       "1                     1  \n",
       "2                     1  \n",
       "3                     1  \n",
       "4                     0  \n",
       "\n",
       "[5 rows x 24 columns]"
      ]
     },
     "execution_count": 2,
     "metadata": {},
     "output_type": "execute_result"
    }
   ],
   "source": [
    "data = pd.read_csv('aug_train_clean.csv', index_col=0)\n",
    "data.head()"
   ]
  },
  {
   "cell_type": "code",
   "execution_count": 3,
   "id": "3620fbc4",
   "metadata": {
    "scrolled": false
   },
   "outputs": [],
   "source": [
    "# pre_cleaner(data)"
   ]
  },
  {
   "cell_type": "code",
   "execution_count": 4,
   "id": "57749177",
   "metadata": {},
   "outputs": [
    {
     "name": "stdout",
     "output_type": "stream",
     "text": [
      "\"enrolled_university\", \"education_level\", \"experience\", \"company_size\", \"last_new_job\", "
     ]
    }
   ],
   "source": [
    "to_clean(data)"
   ]
  },
  {
   "cell_type": "markdown",
   "id": "398a6198",
   "metadata": {},
   "source": [
    "### Cleaning \"enrolled_university\""
   ]
  },
  {
   "cell_type": "code",
   "execution_count": 5,
   "id": "30281355",
   "metadata": {},
   "outputs": [
    {
     "name": "stdout",
     "output_type": "stream",
     "text": [
      "count             19158\n",
      "unique                3\n",
      "top       no_enrollment\n",
      "freq              14203\n",
      "Name: enrolled_university, dtype: object \n",
      "\n",
      "0 \n",
      "\n",
      "['no_enrollment' 'Full time course' 'Part time course']\n"
     ]
    }
   ],
   "source": [
    "print(data.enrolled_university.describe(), '\\n')\n",
    "print(data.enrolled_university.isna().sum(), '\\n')\n",
    "print(data.enrolled_university.unique())"
   ]
  },
  {
   "cell_type": "code",
   "execution_count": 6,
   "id": "7cfc681d",
   "metadata": {},
   "outputs": [
    {
     "name": "stdout",
     "output_type": "stream",
     "text": [
      "[0. 2. 1.]\n",
      "[0 2 1] \n",
      "\n",
      "int32\n"
     ]
    }
   ],
   "source": [
    "oe = OrdinalEncoder(categories=[['no_enrollment', 'Part time course', 'Full time course']])\n",
    "data.enrolled_university = oe.fit_transform(pd.DataFrame(data.enrolled_university))\n",
    "# Now 'no_enrollment' is mapped to 0, 'Part time course' to 1, and 'Full time course' to 2\n",
    "print(data.enrolled_university.unique())\n",
    "data.enrolled_university = data.enrolled_university.astype('int32')\n",
    "print(data.enrolled_university.unique(), '\\n')\n",
    "print(data.enrolled_university.dtype)"
   ]
  },
  {
   "cell_type": "markdown",
   "id": "e56ea08e",
   "metadata": {},
   "source": [
    "### Cleaning  \"education_level\""
   ]
  },
  {
   "cell_type": "code",
   "execution_count": 7,
   "id": "527295c2",
   "metadata": {},
   "outputs": [
    {
     "name": "stdout",
     "output_type": "stream",
     "text": [
      "count        19158\n",
      "unique           5\n",
      "top       Graduate\n",
      "freq         12058\n",
      "Name: education_level, dtype: object \n",
      "\n",
      "0 \n",
      "\n",
      "['Graduate' 'Masters' 'High School' 'Phd' 'Primary School']\n"
     ]
    }
   ],
   "source": [
    "print(data.education_level.describe(), '\\n')\n",
    "print(data.education_level.isna().sum(), '\\n')\n",
    "print(data.education_level.unique())"
   ]
  },
  {
   "cell_type": "code",
   "execution_count": 8,
   "id": "0ecdb647",
   "metadata": {},
   "outputs": [
    {
     "name": "stdout",
     "output_type": "stream",
     "text": [
      "[2. 3. 1. 4. 0.]\n",
      "[2 3 1 4 0] \n",
      "\n",
      "int32\n"
     ]
    }
   ],
   "source": [
    "oe = OrdinalEncoder(categories=[['Primary School', 'High School', 'Graduate', 'Masters', 'Phd']])\n",
    "data.education_level = oe.fit_transform(pd.DataFrame(data.education_level))\n",
    "# Now 'Primary School is mapped to 0, 'High School' to 1, 'Graduate' to 2, 'Masters' to 3, and 'Phd' to 4\n",
    "print(data.education_level.unique())\n",
    "data.education_level = data.education_level.astype('int32')\n",
    "print(data.education_level.unique(), '\\n')\n",
    "print(data.education_level.dtype)\n"
   ]
  },
  {
   "cell_type": "markdown",
   "id": "20ecff65",
   "metadata": {},
   "source": [
    "### Cleaning  \"experience\"\n"
   ]
  },
  {
   "cell_type": "code",
   "execution_count": 9,
   "id": "2c73b8e7",
   "metadata": {},
   "outputs": [
    {
     "name": "stdout",
     "output_type": "stream",
     "text": [
      "count     19158\n",
      "unique       22\n",
      "top         >20\n",
      "freq       3351\n",
      "Name: experience, dtype: object \n",
      "\n",
      "0 \n",
      "\n",
      "['>20' '15' '5' '<1' '11' '13' '7' '17' '2' '16' '1' '4' '10' '14' '18'\n",
      " '19' '12' '3' '6' '9' '8' '20']\n"
     ]
    }
   ],
   "source": [
    "print(data.experience.describe(), '\\n')\n",
    "print(data.experience.isna().sum(), '\\n')\n",
    "print(data.experience.unique())"
   ]
  },
  {
   "cell_type": "code",
   "execution_count": 10,
   "id": "afc2fc9b",
   "metadata": {},
   "outputs": [
    {
     "name": "stdout",
     "output_type": "stream",
     "text": [
      "['>20' '15' '5' '<1' '11' '13' '7' '17' '2' '16' '1' '4' '10' '14' '18'\n",
      " '19' '12' '3' '6' '9' '8' '20'] \n",
      "\n",
      "[21 15  5  0 11 13  7 17  2 16  1  4 10 14 18 19 12  3  6  9  8 20]\n"
     ]
    }
   ],
   "source": [
    "print(data.experience.unique(), '\\n')\n",
    "change = {'>20': 21, '<1': 0}\n",
    "data.experience = data.experience.replace(change)\n",
    "data.experience = pd.to_numeric(data.experience)\n",
    "print(data.experience.unique())"
   ]
  },
  {
   "cell_type": "markdown",
   "id": "f08266ab",
   "metadata": {},
   "source": [
    "### Cleaning \"company_size\""
   ]
  },
  {
   "cell_type": "code",
   "execution_count": 11,
   "id": "7fdd4256",
   "metadata": {},
   "outputs": [
    {
     "name": "stdout",
     "output_type": "stream",
     "text": [
      "count     13220\n",
      "unique        8\n",
      "top       50-99\n",
      "freq       3083\n",
      "Name: company_size, dtype: object \n",
      "\n",
      "5938 \n",
      "\n",
      "[nan '50-99' '<10' '10000+' '5000-9999' '1000-4999' '10/49' '100-500'\n",
      " '500-999']\n"
     ]
    }
   ],
   "source": [
    "print(data.company_size.describe(), '\\n')\n",
    "print(data.company_size.isna().sum(), '\\n')\n",
    "print(data.company_size.unique())"
   ]
  },
  {
   "cell_type": "code",
   "execution_count": 12,
   "id": "2c5fbae9",
   "metadata": {},
   "outputs": [
    {
     "name": "stdout",
     "output_type": "stream",
     "text": [
      "0\n"
     ]
    }
   ],
   "source": [
    "from sklearn.impute import SimpleImputer\n",
    "\n",
    "imp = SimpleImputer(missing_values=np.nan, strategy='most_frequent')\n",
    "data.company_size = imp.fit_transform(pd.DataFrame(data.company_size))\n",
    "print(data.company_size.isna().sum())"
   ]
  },
  {
   "cell_type": "code",
   "execution_count": 13,
   "id": "5e538e6c",
   "metadata": {},
   "outputs": [
    {
     "name": "stdout",
     "output_type": "stream",
     "text": [
      "count     19158\n",
      "unique        8\n",
      "top       50-99\n",
      "freq       9021\n",
      "Name: company_size, dtype: object \n",
      "\n",
      "0 \n",
      "\n",
      "['50-99' '<10' '10000+' '5000-9999' '1000-4999' '10/49' '100-500'\n",
      " '500-999']\n"
     ]
    }
   ],
   "source": [
    "print(data.company_size.describe(), '\\n')\n",
    "print(data.company_size.isna().sum(), '\\n')\n",
    "print(data.company_size.unique())"
   ]
  },
  {
   "cell_type": "code",
   "execution_count": 14,
   "id": "c2670b64",
   "metadata": {},
   "outputs": [
    {
     "name": "stdout",
     "output_type": "stream",
     "text": [
      "[2. 0. 7. 6. 5. 1. 3. 4.]\n",
      "[2 0 7 6 5 1 3 4] \n",
      "\n",
      "int32\n"
     ]
    }
   ],
   "source": [
    "oe = OrdinalEncoder(categories=[['<10', '10/49', '50-99', '100-500', '500-999', '1000-4999', '5000-9999', '10000+']])\n",
    "data.company_size = oe.fit_transform(pd.DataFrame(data.company_size))\n",
    "\n",
    "print(data.company_size.unique())\n",
    "data.company_size = data.company_size.astype('int32')\n",
    "print(data.company_size.unique(), '\\n')\n",
    "print(data.company_size.dtype)"
   ]
  },
  {
   "cell_type": "markdown",
   "id": "f0708349",
   "metadata": {},
   "source": [
    "### Cleaning \"last_new_job\""
   ]
  },
  {
   "cell_type": "code",
   "execution_count": 15,
   "id": "4333612a",
   "metadata": {},
   "outputs": [
    {
     "name": "stdout",
     "output_type": "stream",
     "text": [
      "count     19158\n",
      "unique        6\n",
      "top           1\n",
      "freq       8463\n",
      "Name: last_new_job, dtype: object \n",
      "\n",
      "0 \n",
      "\n",
      "['1' '>4' 'never' '4' '3' '2']\n"
     ]
    }
   ],
   "source": [
    "print(data.last_new_job.describe(), '\\n')\n",
    "print(data.last_new_job.isna().sum(), '\\n')\n",
    "print(data.last_new_job.unique())"
   ]
  },
  {
   "cell_type": "code",
   "execution_count": 16,
   "id": "7b1071de",
   "metadata": {},
   "outputs": [
    {
     "name": "stdout",
     "output_type": "stream",
     "text": [
      "['1' '>4' 'never' '4' '3' '2'] \n",
      "\n",
      "[1 5 0 4 3 2]\n"
     ]
    }
   ],
   "source": [
    "print(data.last_new_job.unique(), '\\n')\n",
    "change = {'>4': 5, 'never': 0}\n",
    "data.last_new_job = data.last_new_job.replace(change)\n",
    "data.last_new_job = pd.to_numeric(data.last_new_job)\n",
    "print(data.last_new_job.unique())"
   ]
  },
  {
   "cell_type": "markdown",
   "id": "a85d2698",
   "metadata": {},
   "source": [
    "### Last look to the data"
   ]
  },
  {
   "cell_type": "code",
   "execution_count": 17,
   "id": "26f68d1a",
   "metadata": {},
   "outputs": [
    {
     "name": "stdout",
     "output_type": "stream",
     "text": [
      "min \t max \t col\n",
      "0.448 \t 0.949 \t city_development_index\n",
      "0 \t 2 \t enrolled_university\n",
      "0 \t 4 \t education_level\n",
      "0 \t 21 \t experience\n",
      "0 \t 7 \t company_size\n",
      "0 \t 5 \t last_new_job\n",
      "1 \t 336 \t training_hours\n",
      "0.0 \t 1.0 \t target\n",
      "0 \t 1 \t gender_Female\n",
      "0 \t 1 \t gender_Male\n",
      "0 \t 1 \t gender_Other\n",
      "0 \t 1 \t relevent_experience_No relevent experience\n",
      "0 \t 1 \t major_discipline_Arts\n",
      "0 \t 1 \t major_discipline_Business Degree\n",
      "0 \t 1 \t major_discipline_Humanities\n",
      "0 \t 1 \t major_discipline_No Major\n",
      "0 \t 1 \t major_discipline_Other\n",
      "0 \t 1 \t major_discipline_STEM\n",
      "0 \t 1 \t company_type_Early Stage Startup\n",
      "0 \t 1 \t company_type_Funded Startup\n",
      "0 \t 1 \t company_type_NGO\n",
      "0 \t 1 \t company_type_Other\n",
      "0 \t 1 \t company_type_Public Sector\n",
      "0 \t 1 \t company_type_Pvt Ltd\n"
     ]
    }
   ],
   "source": [
    "minimum = [data[col].min() for col in data]\n",
    "maximum = [data[col].max() for col in data]\n",
    "\n",
    "print('min \\t max \\t col')\n",
    "for col, mi, mx in zip(data.columns, minimum, maximum):\n",
    "    print(mi, '\\t', mx, '\\t', col)"
   ]
  },
  {
   "cell_type": "code",
   "execution_count": 18,
   "id": "766b8fa6",
   "metadata": {},
   "outputs": [
    {
     "name": "stdout",
     "output_type": "stream",
     "text": [
      "[1. 0.]\n",
      "[1 0] \n",
      "\n",
      "int32\n"
     ]
    }
   ],
   "source": [
    "# almost all column are okay except \"training_hours\" and \"target\"\n",
    "# At first dtype change in \"target\" column\n",
    "print(data.target.unique())\n",
    "data.target = data.target.astype('int32')\n",
    "print(data.target.unique(), '\\n')\n",
    "print(data.target.dtype)"
   ]
  },
  {
   "cell_type": "code",
   "execution_count": 19,
   "id": "d0048662",
   "metadata": {},
   "outputs": [
    {
     "name": "stdout",
     "output_type": "stream",
     "text": [
      "241\n",
      "[ 36  47  83  52   8  24  18  46 123  32 108  23  26 106   7 132  68  50\n",
      "  48  65  13  22 148  72  40 141  82 145 206 152  42  14 112  87  20  21\n",
      "  92 102  43  45  19  90  25  15  98 142  28 228  29  12  17  35   4 136\n",
      "  27  74  86  75 332 140 182 172  33  34 150 160   3   2 210 101  59 260\n",
      " 131 109  70  51  60 164 290 133  76 156 120 100  39  55  49   6 125 326\n",
      " 198  11  41 114 246  81  31  84 105  38 178 104 202  88 218  62  10  80\n",
      "  77  37 162 190  30  16   5  54  44 110 262 107 134 103  96  57 240  94\n",
      " 113  56  64 320   9 129  58 126 166  95  97 204 116 161 146 302  53 143\n",
      " 124 214 288 306 322  67  61 130 220  78 314 226 280  91 234 163 151  85\n",
      " 256 168 144  66 128  73 122 154  63 292 188  71 135 138 184  89 157 118\n",
      " 111 192 127 216 139 196  99 167 276 121  69 155 316 242 304 284 278 310\n",
      " 222 212 250 180 258 330 158 149 165  79 194 176 174 312 200 328 300 153\n",
      " 232 336 308 147 298 224 254 248 236 170 264 119 117 334 324   1 238 266\n",
      " 282 268 244 272 294 270 286]\n"
     ]
    }
   ],
   "source": [
    "# Now is time to get \"training_hours\" column back in order\n",
    "print(data.training_hours.nunique())\n",
    "print(data.training_hours.unique())"
   ]
  },
  {
   "cell_type": "code",
   "execution_count": 20,
   "id": "1d8b450b",
   "metadata": {},
   "outputs": [
    {
     "name": "stdout",
     "output_type": "stream",
     "text": [
      "min: -1.0718\n",
      "max: 4.5063\n"
     ]
    }
   ],
   "source": [
    "# This column has many values but all values are important, so they must be standarized or normalized\n",
    "from sklearn.preprocessing import StandardScaler\n",
    "\n",
    "sc = StandardScaler()\n",
    "\n",
    "data.training_hours = sc.fit_transform(pd.DataFrame(data.training_hours))\n",
    "print(f'min: {data.training_hours.min():.4f}')\n",
    "print(f'max: {data.training_hours.max():.4f}')"
   ]
  },
  {
   "cell_type": "markdown",
   "id": "aca8d999",
   "metadata": {},
   "source": [
    "## Random forest "
   ]
  },
  {
   "cell_type": "markdown",
   "id": "e51b07f2",
   "metadata": {},
   "source": [
    "#### Import libraries"
   ]
  },
  {
   "cell_type": "code",
   "execution_count": 21,
   "id": "7dffd24f",
   "metadata": {},
   "outputs": [],
   "source": [
    "from sklearn.model_selection import train_test_split\n",
    "from sklearn.ensemble import RandomForestClassifier\n",
    "from sklearn.datasets import make_classification"
   ]
  },
  {
   "cell_type": "markdown",
   "id": "3505b917",
   "metadata": {},
   "source": [
    "### Split data to test and trainig set "
   ]
  },
  {
   "cell_type": "code",
   "execution_count": 29,
   "id": "9590e86e",
   "metadata": {},
   "outputs": [
    {
     "name": "stdout",
     "output_type": "stream",
     "text": [
      "(19158, 23)\n",
      "(19158,)\n"
     ]
    }
   ],
   "source": [
    "X = data.drop('target', axis=1)\n",
    "y = data.target\n",
    "\n",
    "print(X.shape)\n",
    "print(y.shape)"
   ]
  },
  {
   "cell_type": "code",
   "execution_count": 30,
   "id": "c7454f6e",
   "metadata": {},
   "outputs": [],
   "source": [
    "X_train, X_test, y_train, y_test = train_test_split(X, y, test_size=0.2, random_state=1)"
   ]
  },
  {
   "cell_type": "code",
   "execution_count": 31,
   "id": "a8c31126",
   "metadata": {
    "scrolled": false
   },
   "outputs": [
    {
     "name": "stdout",
     "output_type": "stream",
     "text": [
      "Score (0): 0.7562630480167014\n",
      "Score (1): 0.7562630480167014\n",
      "Score (2): 0.7562630480167014\n",
      "Score (3): 0.7609603340292276\n",
      "Score (4): 0.7682672233820459\n",
      "Score (5): 0.778705636743215\n",
      "Score (6): 0.7813152400835073\n",
      "Score (7): 0.778705636743215\n",
      "Score (8): 0.7802713987473904\n",
      "Score (9): 0.7807933194154488\n"
     ]
    }
   ],
   "source": [
    "ii = 10\n",
    "\n",
    "score_max = [0,0]\n",
    "scores = []\n",
    "\n",
    "for i in range(ii):\n",
    "\n",
    "        X_train, X_test, y_train, y_test = train_test_split(X, y, test_size=0.1, random_state=1)\n",
    "\n",
    "        clf = RandomForestClassifier(max_depth=i+1, random_state=1)\n",
    "        clf.fit(X_train, y_train)\n",
    "        score_now = clf.score(X_test, y_test)\n",
    "        scores.append(score_now)\n",
    "#         print(scores)\n",
    "        if score_now > score_max[1]:\n",
    "            score_max[1] = score_now\n",
    "            score_max[0] = i\n",
    "\n",
    "        print(f'Score ({i}): {scores[i]}')"
   ]
  },
  {
   "cell_type": "code",
   "execution_count": 25,
   "id": "9ebf74c0",
   "metadata": {},
   "outputs": [
    {
     "name": "stdout",
     "output_type": "stream",
     "text": [
      "[12, 0.7828810020876826]\n"
     ]
    }
   ],
   "source": [
    "print(score_max)"
   ]
  },
  {
   "cell_type": "markdown",
   "id": "295135b6",
   "metadata": {},
   "source": [
    "#### ploted score, n_samples and max_depth"
   ]
  },
  {
   "cell_type": "code",
   "execution_count": 32,
   "id": "5c4fdb89",
   "metadata": {},
   "outputs": [
    {
     "data": {
      "application/vnd.jupyter.widget-view+json": {
       "model_id": "e70788697e05453fa0cf30187797377b",
       "version_major": 2,
       "version_minor": 0
      },
      "text/plain": [
       "Canvas(toolbar=Toolbar(toolitems=[('Home', 'Reset original view', 'home', 'home'), ('Back', 'Back to previous …"
      ]
     },
     "metadata": {},
     "output_type": "display_data"
    }
   ],
   "source": [
    "import matplotlib.pyplot as plt\n",
    "from matplotlib import cm\n",
    "import numpy as np\n",
    "%matplotlib widget\n",
    "# %matplotlib notebook\n",
    "\n",
    "X = range(len(scores))\n",
    "Y = scores\n",
    "\n",
    "plt.plot(X, Y)\n",
    "plt.scatter(X, Y, s=40, marker='s', c='red')\n",
    "\n",
    "plt.ylabel('Accuracy', fontsize=15)\n",
    "plt.xlabel('max_depth', fontsize=15)\n",
    "\n",
    "plt.show()"
   ]
  },
  {
   "cell_type": "markdown",
   "id": "72723665",
   "metadata": {},
   "source": [
    "# Random Forest - after dimension reduction "
   ]
  },
  {
   "cell_type": "code",
   "execution_count": 38,
   "id": "a19bfb7d",
   "metadata": {},
   "outputs": [],
   "source": [
    "from sklearn.decomposition import PCA\n",
    "pca = PCA(n_components=10)\n",
    "\n",
    "X_pca = data.drop('target', axis=1)\n",
    "X_pca = pca.fit_transform(X_pca)\n",
    "\n",
    "X_train, X_test, y_train, y_test = train_test_split(X_pca, y_pca, test_size=0.1, random_state=1)\n"
   ]
  },
  {
   "cell_type": "code",
   "execution_count": 39,
   "id": "d4d8d676",
   "metadata": {},
   "outputs": [
    {
     "name": "stdout",
     "output_type": "stream",
     "text": [
      "Score (0): 0.7562630480167014\n",
      "Score (1): 0.7562630480167014\n",
      "Score (2): 0.7562630480167014\n",
      "Score (3): 0.7604384133611691\n",
      "Score (4): 0.7583507306889353\n",
      "Score (5): 0.7588726513569938\n",
      "Score (6): 0.7599164926931107\n",
      "Score (7): 0.7609603340292276\n",
      "Score (8): 0.7578288100208769\n",
      "Score (9): 0.7552192066805845\n"
     ]
    }
   ],
   "source": [
    "dd = 10\n",
    "score_max = [0,0]\n",
    "scores = []\n",
    "\n",
    "for d in range(dd):\n",
    "\n",
    "    clf = RandomForestClassifier(max_depth=d+1, random_state=1)\n",
    "    clf.fit(X_train, y_train)\n",
    "    score_now = clf.score(X_test, y_test)\n",
    "    scores.append(score_now)\n",
    "    if score_now > score_max[1]:\n",
    "        score_max[1] = score_now\n",
    "        score_max[0] = d\n",
    "\n",
    "    print(f'Score ({d}): {scores[d]}')"
   ]
  },
  {
   "cell_type": "code",
   "execution_count": 40,
   "id": "9978b373",
   "metadata": {},
   "outputs": [
    {
     "data": {
      "application/vnd.jupyter.widget-view+json": {
       "model_id": "d3e19481d6474a52aba44dc8bdb1e59e",
       "version_major": 2,
       "version_minor": 0
      },
      "text/plain": [
       "Canvas(toolbar=Toolbar(toolitems=[('Home', 'Reset original view', 'home', 'home'), ('Back', 'Back to previous …"
      ]
     },
     "metadata": {},
     "output_type": "display_data"
    }
   ],
   "source": [
    "import matplotlib.pyplot as plt\n",
    "from matplotlib import cm\n",
    "import numpy as np\n",
    "%matplotlib widget\n",
    "# %matplotlib notebook\n",
    "\n",
    "X = range(len(scores))\n",
    "Y = scores\n",
    "\n",
    "plt.plot(X, Y)\n",
    "plt.scatter(X, Y, s=40, marker='s', c='red')\n",
    "\n",
    "plt.ylabel('Accuracy', fontsize=15)\n",
    "plt.xlabel('max_depth', fontsize=15)\n",
    "\n",
    "plt.show()"
   ]
  },
  {
   "cell_type": "markdown",
   "id": "bef8e385",
   "metadata": {},
   "source": [
    "Because of random feature reduction from 23 to 10 accuracy of the prediction model dropped (the model will be faster but less accurate)"
   ]
  },
  {
   "cell_type": "code",
   "execution_count": null,
   "id": "31f82865",
   "metadata": {},
   "outputs": [],
   "source": []
  }
 ],
 "metadata": {
  "kernelspec": {
   "display_name": "Python 3",
   "language": "python",
   "name": "python3"
  },
  "language_info": {
   "codemirror_mode": {
    "name": "ipython",
    "version": 3
   },
   "file_extension": ".py",
   "mimetype": "text/x-python",
   "name": "python",
   "nbconvert_exporter": "python",
   "pygments_lexer": "ipython3",
   "version": "3.8.3"
  }
 },
 "nbformat": 4,
 "nbformat_minor": 5
}
